{
 "cells": [
  {
   "cell_type": "code",
   "execution_count": 1,
   "metadata": {},
   "outputs": [],
   "source": [
    "from pyspark.sql import SparkSession # Entry point \n",
    "from pyspark.sql.functions import col # To refer to DataFrame columns later on while applying transformations\n",
    "from pyspark.sql.types import DoubleType # Defines numeric data types explicitly \n",
    "from pyspark.ml.feature import VectorAssembler, StandardScaler # for feature engineering\n",
    "from pyspark.ml.classification import LogisticRegression # for model training\n",
    "from pyspark.ml.evaluation import MulticlassClassificationEvaluator # for model evaluation\n",
    "import matplotlib.pyplot as plt #for data visualization\n",
    "import seaborn as sns # for data visualization"
   ]
  },
  {
   "cell_type": "code",
   "execution_count": 2,
   "metadata": {},
   "outputs": [],
   "source": [
    "# Initialize Spark Session\n",
    "spark = SparkSession.builder \\\n",
    "    .appName(\"CHD Prediction with PySpark\") \\\n",
    "    .getOrCreate()\n"
   ]
  },
  {
   "cell_type": "code",
   "execution_count": 3,
   "metadata": {},
   "outputs": [],
   "source": [
    "# Load dataset\n",
    "file_path = \"framingham.csv\"\n",
    "disease_df = spark.read.csv(file_path, header=True, inferSchema=True) # header=True indicates that the first row contains column names and inferSchema will automatically detect the data type of each column"
   ]
  },
  {
   "cell_type": "code",
   "execution_count": 4,
   "metadata": {},
   "outputs": [],
   "source": [
    "# Drop the 'education' column\n",
    "disease_df = disease_df.drop('education')\n"
   ]
  },
  {
   "cell_type": "code",
   "execution_count": 5,
   "metadata": {},
   "outputs": [],
   "source": [
    "# Rename column 'male' to 'Sex_male'\n",
    "disease_df = disease_df.withColumnRenamed('male', 'Sex_male')"
   ]
  },
  {
   "cell_type": "code",
   "execution_count": null,
   "metadata": {},
   "outputs": [],
   "source": [
    "\n",
    "\n",
    "# Check for string-type columns and cast to DoubleType\n",
    "columns_to_cast = ['cigsPerDay', 'totChol', 'glucose']\n",
    "for col_name in columns_to_cast:\n",
    "    disease_df = disease_df.withColumn(col_name, col(col_name).cast(DoubleType())) # ML algos require numeric data types so we're changing CigsPerDay, TotChol, and Glucose to DoubleType"
   ]
  },
  {
   "cell_type": "code",
   "execution_count": 7,
   "metadata": {},
   "outputs": [
    {
     "name": "stdout",
     "output_type": "stream",
     "text": [
      "root\n",
      " |-- Sex_male: integer (nullable = true)\n",
      " |-- age: integer (nullable = true)\n",
      " |-- currentSmoker: integer (nullable = true)\n",
      " |-- cigsPerDay: double (nullable = true)\n",
      " |-- BPMeds: string (nullable = true)\n",
      " |-- prevalentStroke: integer (nullable = true)\n",
      " |-- prevalentHyp: integer (nullable = true)\n",
      " |-- diabetes: integer (nullable = true)\n",
      " |-- totChol: double (nullable = true)\n",
      " |-- sysBP: double (nullable = true)\n",
      " |-- diaBP: double (nullable = true)\n",
      " |-- BMI: string (nullable = true)\n",
      " |-- heartRate: string (nullable = true)\n",
      " |-- glucose: double (nullable = true)\n",
      " |-- TenYearCHD: integer (nullable = true)\n",
      "\n"
     ]
    }
   ],
   "source": [
    "# Verify schema to ensure the columns are now numeric\n",
    "disease_df.printSchema()"
   ]
  },
  {
   "cell_type": "code",
   "execution_count": 8,
   "metadata": {},
   "outputs": [],
   "source": [
    "# Remove rows with null values\n",
    "disease_df = disease_df.na.drop()\n"
   ]
  },
  {
   "cell_type": "code",
   "execution_count": 9,
   "metadata": {},
   "outputs": [
    {
     "name": "stdout",
     "output_type": "stream",
     "text": [
      "+--------+---+-------------+----------+------+---------------+------------+--------+-------+-----+-----+-----+---------+-------+----------+\n",
      "|Sex_male|age|currentSmoker|cigsPerDay|BPMeds|prevalentStroke|prevalentHyp|diabetes|totChol|sysBP|diaBP|  BMI|heartRate|glucose|TenYearCHD|\n",
      "+--------+---+-------------+----------+------+---------------+------------+--------+-------+-----+-----+-----+---------+-------+----------+\n",
      "|       1| 39|            0|       0.0|     0|              0|           0|       0|  195.0|106.0| 70.0|26.97|       80|   77.0|         0|\n",
      "|       0| 46|            0|       0.0|     0|              0|           0|       0|  250.0|121.0| 81.0|28.73|       95|   76.0|         0|\n",
      "|       1| 48|            1|      20.0|     0|              0|           0|       0|  245.0|127.5| 80.0|25.34|       75|   70.0|         0|\n",
      "|       0| 61|            1|      30.0|     0|              0|           1|       0|  225.0|150.0| 95.0|28.58|       65|  103.0|         1|\n",
      "|       0| 46|            1|      23.0|     0|              0|           0|       0|  285.0|130.0| 84.0| 23.1|       85|   85.0|         0|\n",
      "+--------+---+-------------+----------+------+---------------+------------+--------+-------+-----+-----+-----+---------+-------+----------+\n",
      "only showing top 5 rows\n",
      "\n",
      "Dataset shape: 3817, 15\n",
      "+----------+-----+\n",
      "|TenYearCHD|count|\n",
      "+----------+-----+\n",
      "|         1|  591|\n",
      "|         0| 3226|\n",
      "+----------+-----+\n",
      "\n"
     ]
    }
   ],
   "source": [
    "# Check the data\n",
    "disease_df.show(5)\n",
    "print(f\"Dataset shape: {disease_df.count()}, {len(disease_df.columns)}\")\n",
    "disease_df.groupBy('TenYearCHD').count().show()\n",
    "### this is for displaying the first 5 rows and grouping by the target variable which is TenYearCHD\n"
   ]
  },
  {
   "cell_type": "code",
   "execution_count": 10,
   "metadata": {},
   "outputs": [],
   "source": [
    "# Features and target variable\n",
    "feature_columns = ['age', 'Sex_male', 'cigsPerDay', 'totChol', 'sysBP', 'glucose']\n",
    "assembler = VectorAssembler(inputCols=feature_columns, outputCol=\"features\")\n",
    "disease_df = assembler.transform(disease_df)\n",
    "\n",
    "#combines multiple feature columns into a single vector thats relevant to the model"
   ]
  },
  {
   "cell_type": "code",
   "execution_count": 11,
   "metadata": {},
   "outputs": [],
   "source": [
    "# Standardize features\n",
    "scaler = StandardScaler(inputCol=\"features\", outputCol=\"scaledFeatures\", withStd=True, withMean=False)\n",
    "scaler_model = scaler.fit(disease_df)\n",
    "disease_df = scaler_model.transform(disease_df)\n",
    "# this step improves the performance of the model by standerdizing the feature values to have unit variance (because they're sensitive to varying feature values)"
   ]
  },
  {
   "cell_type": "code",
   "execution_count": 12,
   "metadata": {},
   "outputs": [],
   "source": [
    "# Select features and target for modeling\n",
    "data = disease_df.select('scaledFeatures', 'TenYearCHD')"
   ]
  },
  {
   "cell_type": "code",
   "execution_count": 13,
   "metadata": {},
   "outputs": [],
   "source": [
    "# Train-Test Split\n",
    "train_data, test_data = data.randomSplit([0.7, 0.3], seed=42) #for evaluating model performance"
   ]
  },
  {
   "cell_type": "code",
   "execution_count": 14,
   "metadata": {},
   "outputs": [],
   "source": [
    "# Logistic Regression Model\n",
    "lr = LogisticRegression(featuresCol='scaledFeatures', labelCol='TenYearCHD')\n",
    "lr_model = lr.fit(train_data)\n",
    "\n",
    "# logistic Regression is a classification algorithm used to predict categorical data (binary classification)"
   ]
  },
  {
   "cell_type": "code",
   "execution_count": 15,
   "metadata": {},
   "outputs": [],
   "source": [
    "# Predict on test data\n",
    "predictions = lr_model.transform(test_data)\n",
    "\n",
    "# uses the trained model to make predictions on the test data"
   ]
  },
  {
   "cell_type": "code",
   "execution_count": 16,
   "metadata": {},
   "outputs": [
    {
     "name": "stdout",
     "output_type": "stream",
     "text": [
      "Accuracy of the model is = 0.85\n"
     ]
    }
   ],
   "source": [
    "# Evaluation\n",
    "evaluator = MulticlassClassificationEvaluator(\n",
    "    labelCol=\"TenYearCHD\", predictionCol=\"prediction\", metricName=\"accuracy\"\n",
    ")\n",
    "accuracy = evaluator.evaluate(predictions)\n",
    "print(f\"Accuracy of the model is = {accuracy:.2f}\")\n",
    "\n",
    "#Evaluates the model accuracy using MCE which measures the proportion of correctly classified instances"
   ]
  },
  {
   "cell_type": "code",
   "execution_count": 17,
   "metadata": {},
   "outputs": [
    {
     "data": {
      "image/png": "[encoded data removed]",
      "text/plain": [
       "<Figure size 800x500 with 2 Axes>"
      ]
     },
     "metadata": {},
     "output_type": "display_data"
    }
   ],
   "source": [
    "# Confusion Matrix\n",
    "cm = predictions.groupBy(\"TenYearCHD\", \"prediction\").count().toPandas()\n",
    "conf_matrix = cm.pivot(index=\"TenYearCHD\", columns=\"prediction\", values=\"count\").fillna(0)\n",
    "plt.figure(figsize=(8, 5))\n",
    "sns.heatmap(conf_matrix, annot=True, fmt='d', cmap=\"Greens\") \n",
    "plt.title('Confusion Matrix') \n",
    "plt.xlabel('Predicted')\n",
    "plt.ylabel('Actual')\n",
    "plt.show()\n",
    "\n",
    "#actual value on the x-axis and predicted value on the y-axis\n",
    "#actual 0.0 predicted 0.0 TN cases where the actual value is 0.0 (No CHD), and the model correctly predicted 0.0.\n",
    "#actual 0.0 predicted 1.0 FP cases where the actual value is 0.0 (No CHD), but the model incorrectly predicted 1.0 (CHD).\n",
    "#actual 1.0 predicted 0.0 FN cases where the actual value is 1.0 (CHD), but the model incorrectly predicted 0.0 (No CHD).\n",
    "#actual 1.0 predicted 1.0 TP cases where the actual value is 1.0 (CHD), and the model correctly predicted 1.0."
   ]
  }
 ],
 "metadata": {
  "kernelspec": {
   "display_name": "base",
   "language": "python",
   "name": "python3"
  },
  "language_info": {
   "codemirror_mode": {
    "name": "ipython",
    "version": 3
   },
   "file_extension": ".py",
   "mimetype": "text/x-python",
   "name": "python",
   "nbconvert_exporter": "python",
   "pygments_lexer": "ipython3",
   "version": "3.12.7"
  }
 },
 "nbformat": 4,
 "nbformat_minor": 2
}
